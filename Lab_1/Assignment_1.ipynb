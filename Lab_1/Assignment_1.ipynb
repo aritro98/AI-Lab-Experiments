{
  "nbformat": 4,
  "nbformat_minor": 0,
  "metadata": {
    "colab": {
      "provenance": []
    },
    "kernelspec": {
      "name": "python3",
      "display_name": "Python 3"
    },
    "language_info": {
      "name": "python"
    }
  },
  "cells": [
    {
      "cell_type": "markdown",
      "source": [
        "###Assignment-1: Maze Solver using BFS and DFS\n",
        "\n",
        "Objective: Implement BFS and DFS to solve a maze.\n",
        "\n",
        "Problem Statement: Given a grid-based maze where 0 represents walls and 1\n",
        "represents walkable paths, find the shortest path from a start cell to an end cell.\n",
        "\n",
        "####Tasks:\n",
        "* Use BFS to find the shortest path.\n",
        "* Use DFS to explore all possible paths and report one valid path (not necessarily the shortest).\n",
        "* Compare the number of nodes explored by BFS and DFS."
      ],
      "metadata": {
        "id": "Sfg32poOsQK5"
      }
    },
    {
      "cell_type": "code",
      "execution_count": null,
      "metadata": {
        "colab": {
          "base_uri": "https://localhost:8080/"
        },
        "id": "oHzSfxq-j0tA",
        "outputId": "85190ff2-fc7a-4c32-f7d4-1a5a81fe4f4b"
      },
      "outputs": [
        {
          "output_type": "stream",
          "name": "stdout",
          "text": [
            "BFS Path: [(1, 1), (1, 2), (1, 3), (2, 3), (2, 4)]\n",
            "DFS Path: [(1, 1), (0, 1), (0, 0), (1, 0), (2, 0), (3, 0), (4, 0), (5, 0), (5, 1), (5, 2), (4, 2), (3, 2), (3, 3), (2, 3), (1, 3), (0, 3), (0, 4), (1, 4), (2, 4)]\n",
            "BFS Nodes Explored: 5\n",
            "DFS Nodes Explored: 19\n"
          ]
        }
      ],
      "source": [
        "from collections import deque\n",
        "\n",
        "DIRECTIONS = [(-1, 0), (1, 0), (0, -1), (0, 1)]\n",
        "\n",
        "def bfs(maze, start, end):\n",
        "    rows, cols = len(maze), len(maze[0])\n",
        "    queue = deque([start])\n",
        "    visited = set([start])\n",
        "    parent = {start: None}\n",
        "    while queue:\n",
        "        x, y = queue.popleft()\n",
        "        if (x, y) == end:\n",
        "            path = []\n",
        "            while (x, y) != start:\n",
        "                path.append((x, y))\n",
        "                x, y = parent[(x, y)]\n",
        "            path.append(start)\n",
        "            return path[::-1]\n",
        "        for dx, dy in DIRECTIONS:\n",
        "            nx, ny = x + dx, y + dy\n",
        "            if 0 <= nx < rows and 0 <= ny < cols and maze[nx][ny] == 1 and (nx, ny) not in visited:\n",
        "                visited.add((nx, ny))\n",
        "                parent[(nx, ny)] = (x, y)\n",
        "                queue.append((nx, ny))\n",
        "    return None\n",
        "\n",
        "def dfs(maze, start, end, path=None, visited=None):\n",
        "    if path is None: path = []\n",
        "    if visited is None: visited = set()\n",
        "    x, y = start\n",
        "    if (x, y) == end:\n",
        "        return path + [start]\n",
        "    visited.add((x, y))\n",
        "    for dx, dy in DIRECTIONS:\n",
        "        nx, ny = x + dx, y + dy\n",
        "        if 0 <= nx < len(maze) and 0 <= ny < len(maze[0]) and maze[nx][ny] == 1 and (nx, ny) not in visited:\n",
        "            result = dfs(maze, (nx, ny), end, path + [(x, y)], visited)\n",
        "            if result:\n",
        "                return result\n",
        "    return None\n",
        "\n",
        "def compare_searches(maze, start, end):\n",
        "    bfs_path = bfs(maze, start, end)\n",
        "    dfs_path = dfs(maze, start, end)\n",
        "    bfs_explored = len(bfs_path) if bfs_path else 0\n",
        "    dfs_explored = len(dfs_path) if dfs_path else 0\n",
        "    return {\n",
        "        'BFS Path': bfs_path,\n",
        "        'DFS Path': dfs_path,\n",
        "        'BFS Nodes Explored': bfs_explored,\n",
        "        'DFS Nodes Explored': dfs_explored,\n",
        "    }\n",
        "\n",
        "maze = [\n",
        "    [1, 1, 1, 1, 1],\n",
        "    [1, 1, 1, 1, 1],\n",
        "    [1, 1, 0, 1, 1],\n",
        "    [1, 1, 1, 1, 1],\n",
        "    [1, 0, 1, 0, 1],\n",
        "    [1, 1, 1, 0, 1]\n",
        "]\n",
        "\n",
        "start = (1, 1)\n",
        "end = (2, 4)\n",
        "\n",
        "result = compare_searches(maze, start, end)\n",
        "print(\"BFS Path:\", result['BFS Path'])\n",
        "print(\"DFS Path:\", result['DFS Path'])\n",
        "print(\"BFS Nodes Explored:\", result['BFS Nodes Explored'])\n",
        "print(\"DFS Nodes Explored:\", result['DFS Nodes Explored'])"
      ]
    }
  ]
}