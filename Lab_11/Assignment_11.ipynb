{
  "cells": [
    {
      "cell_type": "markdown",
      "metadata": {
        "id": "XUpQYE6hOIVw"
      },
      "source": [
        "### Assignment 11: Implementation of local optimization techniques, such as Hill Climbing, for solving AI-based search problems\n",
        "\n",
        "#### Tasks:\n",
        "i) N-Queens: (Heuristic Function: No.of Non-Attacking pairs of Queens + No.of placed Queens)\n",
        "\n",
        "ii) 8-Puzzle: (Heuristic Function: Manhattan Distance)"
      ]
    },
    {
      "cell_type": "code",
      "execution_count": null,
      "metadata": {
        "colab": {
          "base_uri": "https://localhost:8080/"
        },
        "id": "aMHUZF-8G6in",
        "outputId": "5c8ff2eb-0276-4e82-af76-c5498ba71ae0"
      },
      "outputs": [
        {
          "name": "stdout",
          "output_type": "stream",
          "text": [
            "N-Queens Solution: [6, 2, 5, 3, 0, 7, 4, 1]\n",
            "8-Puzzle Solution: [[1, 2, 3], [4, 5, 6], [7, 8, 0]]\n"
          ]
        }
      ],
      "source": [
        "import random\n",
        "import numpy as np\n",
        "\n",
        "# Hill Climbing for N-Queens Problem\n",
        "def n_queens_heuristic(board):\n",
        "    n = len(board)\n",
        "    non_attacking = 0\n",
        "    for i in range(n):\n",
        "        for j in range(i + 1, n):\n",
        "            if board[i] != board[j] and abs(board[i] - board[j]) != j - i:\n",
        "                non_attacking += 1\n",
        "    return non_attacking + n\n",
        "\n",
        "def get_successor_n_queens(board):\n",
        "    n = len(board)\n",
        "    best_board = board[:]\n",
        "    best_score = n_queens_heuristic(board)\n",
        "    for i in range(n):\n",
        "        for j in range(n):\n",
        "            if board[i] != j:\n",
        "                new_board = board[:]\n",
        "                new_board[i] = j\n",
        "                new_score = n_queens_heuristic(new_board)\n",
        "                if new_score > best_score:\n",
        "                    best_board, best_score = new_board, new_score\n",
        "    return best_board\n",
        "\n",
        "def hill_climbing_n_queens(n):\n",
        "    board = [random.randint(0, n - 1) for _ in range(n)]\n",
        "    while True:\n",
        "        new_board = get_successor_n_queens(board)\n",
        "        if new_board == board:\n",
        "            break\n",
        "        board = new_board\n",
        "    return board\n",
        "\n",
        "# Hill Climbing for 8-Puzzle Problem\n",
        "def manhattan_distance(state, goal):\n",
        "    distance = 0\n",
        "    for i in range(3):\n",
        "        for j in range(3):\n",
        "            if state[i][j] != 0:\n",
        "                x, y = np.where(goal == state[i][j])\n",
        "                distance += abs(i - x[0]) + abs(j - y[0])\n",
        "    return distance\n",
        "\n",
        "def get_successor_8_puzzle(state):\n",
        "    goal = np.array([[1, 2, 3], [4, 5, 6], [7, 8, 0]])\n",
        "    empty_pos = np.argwhere(state == 0)[0]\n",
        "    best_state = state.copy()\n",
        "    best_score = -manhattan_distance(state, goal)\n",
        "    moves = [(0, 1), (0, -1), (1, 0), (-1, 0)]\n",
        "    for move in moves:\n",
        "        new_pos = empty_pos + move\n",
        "        if 0 <= new_pos[0] < 3 and 0 <= new_pos[1] < 3:\n",
        "            new_state = state.copy()\n",
        "            new_state[empty_pos[0], empty_pos[1]], new_state[new_pos[0], new_pos[1]] = new_state[new_pos[0], new_pos[1]], new_state[empty_pos[0], empty_pos[1]]\n",
        "            new_score = -manhattan_distance(new_state, goal)\n",
        "            if new_score > best_score:\n",
        "                best_state, best_score = new_state, new_score\n",
        "    return best_state\n",
        "\n",
        "def hill_climbing_8_puzzle(initial_state):\n",
        "    state = np.array(initial_state)\n",
        "    while True:\n",
        "        new_state = get_successor_8_puzzle(state)\n",
        "        if np.array_equal(new_state, state):\n",
        "            break\n",
        "        state = new_state\n",
        "    return state.tolist()\n",
        "\n",
        "n = 8\n",
        "solution_n_queens = hill_climbing_n_queens(n)\n",
        "print(\"N-Queens Solution:\", solution_n_queens)\n",
        "\n",
        "initial_state_8_puzzle = [[1, 2, 3], [4, 0, 5], [7, 8, 6]]\n",
        "solution_8_puzzle = hill_climbing_8_puzzle(initial_state_8_puzzle)\n",
        "print(\"8-Puzzle Solution:\", solution_8_puzzle)"
      ]
    }
  ],
  "metadata": {
    "colab": {
      "provenance": []
    },
    "kernelspec": {
      "display_name": "Python 3",
      "name": "python3"
    },
    "language_info": {
      "name": "python"
    }
  },
  "nbformat": 4,
  "nbformat_minor": 0
}
