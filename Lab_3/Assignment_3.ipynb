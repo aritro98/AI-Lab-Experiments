{
  "nbformat": 4,
  "nbformat_minor": 0,
  "metadata": {
    "colab": {
      "provenance": []
    },
    "kernelspec": {
      "name": "python3",
      "display_name": "Python 3"
    },
    "language_info": {
      "name": "python"
    }
  },
  "cells": [
    {
      "cell_type": "markdown",
      "source": [
        "###Assignment 3: Search for Treasure using the Best-First Search\n",
        "\n",
        "Objective: Use Best-First Search to find a treasure in a grid.\n",
        "\n",
        "Problem Statement: The treasure is hidden in a grid, and each cell has a heuristic value representing its &quot;closeness&quot; to the treasure. Implement Best-First Search to locate the treasure.\n",
        "\n",
        "Tasks:\n",
        "* Use Manhattan distance as a heuristic.\n",
        "* Implement the algorithm to always move to the most promising cell first\n",
        "(minimum heuristic value).\n",
        "* Analyze how heuristic choice affects performance."
      ],
      "metadata": {
        "id": "9rdZzZja0b0d"
      }
    },
    {
      "cell_type": "code",
      "execution_count": null,
      "metadata": {
        "colab": {
          "base_uri": "https://localhost:8080/"
        },
        "id": "ZyvVFepe0asC",
        "outputId": "0f2995d7-be28-4f6a-e4d7-5144e0e4a21d"
      },
      "outputs": [
        {
          "output_type": "stream",
          "name": "stdout",
          "text": [
            "Enter number of rows: 5\n",
            "Enter number of columns: 5\n",
            "Enter start x-coordinate: 0\n",
            "Enter start y-coordinate: 0\n",
            "Enter treasure x-coordinate: 4\n",
            "Enter treasure y-coordinate: 4\n",
            "Path to treasure: [(0, 0), (0, 1), (0, 2), (0, 3), (0, 4), (1, 4), (2, 4), (3, 4), (4, 4)]\n"
          ]
        }
      ],
      "source": [
        "import heapq\n",
        "def manhattan_distance(x1, y1, x2, y2):\n",
        "    return abs(x1 - x2) + abs(y1 - y2)\n",
        "\n",
        "def best_first_search(grid, start, treasure):\n",
        "    rows, cols = len(grid), len(grid[0])\n",
        "    visited = set()\n",
        "    pq = []\n",
        "    heapq.heappush(pq, (0, start))\n",
        "    path = []\n",
        "    while pq:\n",
        "        heuristic, (x, y) = heapq.heappop(pq)\n",
        "        if (x, y) in visited:\n",
        "            continue\n",
        "        visited.add((x, y))\n",
        "        path.append((x, y))\n",
        "        if (x, y) == treasure:\n",
        "            return path\n",
        "        for dx, dy in [(-1, 0), (1, 0), (0, -1), (0, 1)]:\n",
        "            nx, ny = x + dx, y + dy\n",
        "            if 0 <= nx < rows and 0 <= ny < cols and (nx, ny) not in visited:\n",
        "                new_heuristic = manhattan_distance(nx, ny, *treasure)\n",
        "                heapq.heappush(pq, (new_heuristic, (nx, ny)))\n",
        "    return None\n",
        "\n",
        "rows = int(input(\"Enter number of rows: \"))\n",
        "cols = int(input(\"Enter number of columns: \"))\n",
        "grid = [[0 for _ in range(cols)] for _ in range(rows)]\n",
        "\n",
        "start_x = int(input(\"Enter start x-coordinate: \"))\n",
        "start_y = int(input(\"Enter start y-coordinate: \"))\n",
        "start = (start_x, start_y)\n",
        "\n",
        "treasure_x = int(input(\"Enter treasure x-coordinate: \"))\n",
        "treasure_y = int(input(\"Enter treasure y-coordinate: \"))\n",
        "treasure = (treasure_x, treasure_y)\n",
        "\n",
        "path = best_first_search(grid, start, treasure)\n",
        "print(\"Path to treasure:\", path)"
      ]
    }
  ]
}