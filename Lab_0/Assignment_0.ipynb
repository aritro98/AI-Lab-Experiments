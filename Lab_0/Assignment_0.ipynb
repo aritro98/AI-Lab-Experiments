{
  "nbformat": 4,
  "nbformat_minor": 0,
  "metadata": {
    "colab": {
      "provenance": []
    },
    "kernelspec": {
      "name": "python3",
      "display_name": "Python 3"
    },
    "language_info": {
      "name": "python"
    }
  },
  "cells": [
    {
      "cell_type": "markdown",
      "source": [
        "Q1) WAP to find maximum value in a list"
      ],
      "metadata": {
        "id": "h_LtA2Sss8r6"
      }
    },
    {
      "cell_type": "code",
      "execution_count": null,
      "metadata": {
        "colab": {
          "base_uri": "https://localhost:8080/"
        },
        "id": "hfZEbETBs4Ci",
        "outputId": "4f27db4d-dd0e-4579-b585-b5d0211153ab"
      },
      "outputs": [
        {
          "output_type": "stream",
          "name": "stdout",
          "text": [
            "Enter a list:1,2,3,4,5\n",
            "Maximum value in the list is: 5\n"
          ]
        }
      ],
      "source": [
        "lst=eval(input(\"Enter a list:\"))\n",
        "maxlst=max(lst)\n",
        "print(\"Maximum value in the list is:\",maxlst)"
      ]
    },
    {
      "cell_type": "markdown",
      "source": [
        "Q2) WAP to take a graph as input from user as adjacency list & print the DFS traversal of the graph"
      ],
      "metadata": {
        "id": "GMJGQDtBtrLW"
      }
    },
    {
      "cell_type": "code",
      "source": [
        "def dfs(graph, start, visited):\n",
        "    visited.add(start)\n",
        "    print(start, end=' ')\n",
        "    if start in graph:\n",
        "        for neighbor in graph[start]:\n",
        "            if neighbor not in visited:\n",
        "                dfs(graph, neighbor, visited)\n",
        "graph = {}\n",
        "n = int(input(\"Enter the number of nodes: \"))\n",
        "for i in range(n):\n",
        "    node = input(f\"Enter the node name: \")\n",
        "    neighbors = input(f\"Enter the neighbors of {node} separated by space: \").split()\n",
        "    graph[node] = neighbors\n",
        "start_node = input(\"Enter the starting node for DFS: \")\n",
        "visited = set()\n",
        "print(\"DFS Traversal:\")\n",
        "dfs(graph, start_node,visited)"
      ],
      "metadata": {
        "colab": {
          "base_uri": "https://localhost:8080/"
        },
        "id": "55lpIYsBuP8B",
        "outputId": "14371939-ba8d-4921-b80f-da1a0e3fb6ab"
      },
      "execution_count": null,
      "outputs": [
        {
          "output_type": "stream",
          "name": "stdout",
          "text": [
            "Enter the number of nodes: 4\n",
            "Enter the node name: A\n",
            "Enter the neighbors of A separated by space: B C\n",
            "Enter the node name: B\n",
            "Enter the neighbors of B separated by space: C D\n",
            "Enter the node name: C\n",
            "Enter the neighbors of C separated by space: A C B\n",
            "Enter the node name: D\n",
            "Enter the neighbors of D separated by space: B D\n",
            "Enter the starting node for DFS: A\n",
            "DFS Traversal:\n",
            "A B C D "
          ]
        }
      ]
    }
  ]
}