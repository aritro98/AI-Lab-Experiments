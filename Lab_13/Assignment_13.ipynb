{
  "nbformat": 4,
  "nbformat_minor": 0,
  "metadata": {
    "colab": {
      "provenance": []
    },
    "kernelspec": {
      "name": "python3",
      "display_name": "Python 3"
    },
    "language_info": {
      "name": "python"
    }
  },
  "cells": [
    {
      "cell_type": "markdown",
      "source": [
        "### Assignment 13: Solving the Water-Jugs Problem"
      ],
      "metadata": {
        "id": "zouwx1ri8mld"
      }
    },
    {
      "cell_type": "code",
      "execution_count": 2,
      "metadata": {
        "colab": {
          "base_uri": "https://localhost:8080/"
        },
        "id": "mjIQMIqMrISC",
        "outputId": "5f62289b-7c21-4fa2-9b87-a0162fbf02f9"
      },
      "outputs": [
        {
          "output_type": "stream",
          "name": "stdout",
          "text": [
            "Enter capacity of Jug A: 5\n",
            "Enter capacity of Jug B: 3\n",
            "Enter the target amount C: 2\n",
            "<0,0> -1-> <5,0>\n",
            "<5,0> -3-> <2,3>\n"
          ]
        }
      ],
      "source": [
        "from collections import deque\n",
        "def water_jug_bfs(A, B, C):\n",
        "    def is_valid(state):\n",
        "        return 0 <= state[0] <= A and 0 <= state[1] <= B and state not in visited\n",
        "    start = (0, 0)\n",
        "    queue = deque([(start, [])])\n",
        "    visited = set()\n",
        "    visited.add(start)\n",
        "    while queue:\n",
        "        (curr_a, curr_b), path = queue.popleft()\n",
        "        if curr_a == C or curr_b == C:\n",
        "            result_path = path + [(curr_a, curr_b)]\n",
        "            output = []\n",
        "            for i in range(len(result_path) - 1):\n",
        "                prev = result_path[i]\n",
        "                curr = result_path[i + 1]\n",
        "                if curr == (A, prev[1]):\n",
        "                    action_number = 1\n",
        "                elif curr == (prev[0], B):\n",
        "                    action_number = 1\n",
        "                elif curr == (0, prev[1]):\n",
        "                    action_number = 2\n",
        "                elif curr == (prev[0], 0):\n",
        "                    action_number = 2\n",
        "                elif curr == (max(0, prev[0] - (B - prev[1])), min(B, prev[1] + prev[0])):\n",
        "                    action_number = 3\n",
        "                elif curr == (min(A, prev[0] + prev[1]), max(0, prev[1] - (A - prev[0]))):\n",
        "                    action_number = 3\n",
        "                elif curr == (prev[0] // 2, prev[1]):\n",
        "                    action_number = 4\n",
        "                elif curr == (prev[0], prev[1] // 2):\n",
        "                    action_number = 4\n",
        "                output.append(f\"<{prev[0]},{prev[1]}> -{action_number}-> <{curr[0]},{curr[1]}>\")\n",
        "            return \"\\n\".join(output)\n",
        "        actions = [\n",
        "            (A, curr_b),\n",
        "            (curr_a, B),\n",
        "            (0, curr_b),\n",
        "            (curr_a, 0),\n",
        "            (max(0, curr_a - (B - curr_b)), min(B, curr_b + curr_a)),\n",
        "            (min(A, curr_a + curr_b), max(0, curr_b - (A - curr_a))),\n",
        "            (curr_a // 2, curr_b),\n",
        "            (curr_a, curr_b // 2)\n",
        "        ]\n",
        "        for next_state in actions:\n",
        "            if is_valid(next_state):\n",
        "                visited.add(next_state)\n",
        "                queue.append((next_state, path + [(curr_a, curr_b)]))\n",
        "    return \"No solution found\"\n",
        "\n",
        "A = int(input(\"Enter capacity of Jug A: \"))\n",
        "B = int(input(\"Enter capacity of Jug B: \"))\n",
        "C = int(input(\"Enter the target amount C: \"))\n",
        "\n",
        "solution = water_jug_bfs(A, B, C)\n",
        "2\n",
        "if solution:\n",
        "    print(solution)\n",
        "else:\n",
        "    print(\"No solution found\")"
      ]
    }
  ]
}