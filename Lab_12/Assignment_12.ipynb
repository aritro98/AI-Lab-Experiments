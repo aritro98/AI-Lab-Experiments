{
  "cells": [
    {
      "cell_type": "markdown",
      "metadata": {
        "id": "xk5n_eUjnGR6"
      },
      "source": [
        "### Assignment 12: Implementation of Genetic Algorithm (GA) for solving AI-based search problems.\n",
        "\n",
        "**Objective Function:** f(m, n, v, p) = $m^2$ + $| m - n - v|$ + $v^3$m + $e^{n-m}$($p^3$ + 100p + 100)\n",
        "\n",
        "#### Tasks:\n",
        "Minimize f using a Genetic Algorithm (GA). Implement this in Python so that it:\n",
        "1. Represents each individual as a 4-tuple (m, n, v, p) subject to:\n",
        "  * $m \\in [-10,\\,10]$ (real)\n",
        "  * $n \\in [0,\\,100]$ (real)\n",
        "  * $v \\in \\{\\,2^k : k = 2, 3, \\dots, 10\\}$ (discrete)\n",
        "  * $p \\in [-5,\\,10]$ (real)\n",
        "2. Initializes a population of k=50 individuals by drawing each component at random from its domain.\n",
        "3. Defines these GA operators:\n",
        "  * **Selection:** At each generation, pick the two individuals with the lowest f-values.\n",
        "  * **Crossover:** For the two parents:\n",
        "    * Draw $\\alpha \\sim U(0,1)$\n",
        "    * For the real-valued genes (m, n, p) create two children by\n",
        "    $\\displaystyle \\text{child}_j[i] = \\alpha\\,\\text{parent}_1[i] + (1 - \\alpha)\\,\\text{parent}_2[i],\\quad i \\in \\{0,1,3\\}.$\n",
        "    * For the discrete v-gene pick randomly from one of the parents.\n",
        "  * **Mutation:** With probability μ=0.05, choose one random gene index i and replace it by a new random value drawn from that gene's domain.\n",
        "4. Runs for 50 generations, each time replacing the entire population with the newly generated offspring (so population size stays 50).\n",
        "5. Outputs the best solution found and its objective value."
      ]
    },
    {
      "cell_type": "code",
      "execution_count": null,
      "metadata": {
        "colab": {
          "base_uri": "https://localhost:8080/"
        },
        "id": "VT_lrOFF1vY5",
        "outputId": "2368075a-e1d5-4dd4-a1d1-e3a89354d02d"
      },
      "outputs": [
        {
          "name": "stdout",
          "output_type": "stream",
          "text": [
            "Best Individual: (-9.833486661694364, 99.76806618750797, 16, -4.730588014387177)\n",
            "Best Objective Value: -1.9037700034155053e+50\n"
          ]
        }
      ],
      "source": [
        "import numpy as np\n",
        "import random\n",
        "import math\n",
        "\n",
        "def objective_function(m, n, v, p):\n",
        "    return m**2 + abs(m - n - v) + v**3 * m + math.exp(n - m) * (p**3 + 100*p + 100)\n",
        "\n",
        "def initialize_population(k=50):\n",
        "    return [(random.uniform(-10, 10), random.uniform(0, 100), 2**random.randint(2, 10), random.uniform(-5, 10)) for _ in range(k)]\n",
        "\n",
        "def select_parents(population):\n",
        "    return sorted(population, key=lambda x: objective_function(*x))[:2]\n",
        "\n",
        "def crossover(parent1, parent2):\n",
        "    alpha = random.uniform(0, 1)\n",
        "    return [\n",
        "        (alpha * parent1[i] + (1 - alpha) * parent2[i] if i != 2 else random.choice([parent1[2], parent2[2]]) for i in range(4))\n",
        "        for _ in range(2)\n",
        "    ]\n",
        "\n",
        "def mutate(individual, mutation_rate=0.05):\n",
        "    if random.random() < mutation_rate:\n",
        "        i = random.randint(0, 3)\n",
        "        mutated_values = [random.uniform(-10, 10), random.uniform(0, 100), 2**random.randint(2, 10), random.uniform(-5, 10)]\n",
        "        individual = tuple(mutated_values[i] if j == i else individual[j] for j in range(4))\n",
        "    return individual\n",
        "\n",
        "def genetic_algorithm(generations=50, k=50, mutation_rate=0.05):\n",
        "    population = initialize_population(k)\n",
        "\n",
        "    for _ in range(generations):\n",
        "        new_population = []\n",
        "        for _ in range(k // 2):\n",
        "            parent1, parent2 = select_parents(population)\n",
        "            children = crossover(parent1, parent2)\n",
        "            new_population.extend([mutate(tuple(child), mutation_rate) for child in children])\n",
        "        population = new_population[:k]\n",
        "\n",
        "    best_solution = min(population, key=lambda x: objective_function(*x))\n",
        "    return best_solution, objective_function(*best_solution)\n",
        "\n",
        "best_individual, best_value = genetic_algorithm()\n",
        "print(\"Best Individual:\", best_individual)\n",
        "print(\"Best Objective Value:\", best_value)"
      ]
    }
  ],
  "metadata": {
    "colab": {
      "provenance": []
    },
    "kernelspec": {
      "display_name": "Python 3",
      "name": "python3"
    },
    "language_info": {
      "name": "python"
    }
  },
  "nbformat": 4,
  "nbformat_minor": 0
}
