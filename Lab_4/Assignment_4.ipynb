{
  "cells": [
    {
      "cell_type": "markdown",
      "metadata": {
        "id": "R6WjV_a3yxIK"
      },
      "source": [
        "### Assignment 4: Uniform Cost Search for Optimal Path\n",
        "Objective: Implement Uniform Cost Search for a weighted graph.\n",
        "\n",
        "Problem Statement: Given a weighted graph (e.g., a transportation network with travel costs), find the minimum-cost path between two nodes.\n",
        "\n",
        "#### Tasks:\n",
        "* Represent the graph as an adjacency list.\n",
        "* Implement Uniform Cost Search to find the optimal path.\n",
        "* Compare it with BFS for unweighted graphs."
      ]
    },
    {
      "cell_type": "code",
      "execution_count": null,
      "metadata": {
        "colab": {
          "base_uri": "https://localhost:8080/"
        },
        "id": "zT19a2pZvL5K",
        "outputId": "e7ceb2df-347b-4241-840f-e25a0c229d8f"
      },
      "outputs": [
        {
          "name": "stdout",
          "output_type": "stream",
          "text": [
            "UCS: Path: ['A', 'B', 'C', 'D'], Cost: 4\n",
            "BFS: Path: ['A', 'B', 'D']\n"
          ]
        }
      ],
      "source": [
        "import heapq\n",
        "from collections import deque\n",
        "class Graph:\n",
        "    def __init__(self):\n",
        "        self.graph = {}\n",
        "    def add_edge(self, u, v, cost):\n",
        "        if u not in self.graph:\n",
        "            self.graph[u] = []\n",
        "        if v not in self.graph:\n",
        "            self.graph[v] = []\n",
        "        self.graph[u].append((v, cost))\n",
        "        self.graph[v].append((u, cost))\n",
        "    def ucs(self, start, goal):\n",
        "        pq = [(0, start, [])]\n",
        "        visited = set()\n",
        "        while pq:\n",
        "            cost, node, path = heapq.heappop(pq)\n",
        "            if node in visited:\n",
        "                continue\n",
        "            visited.add(node)\n",
        "            path = path + [node]\n",
        "            if node == goal:\n",
        "                return cost, path\n",
        "            for neighbor, weight in self.graph.get(node, []):\n",
        "                if neighbor not in visited:\n",
        "                    heapq.heappush(pq, (cost + weight, neighbor, path))\n",
        "        return float(\"inf\"), []\n",
        "    def bfs(self, start, goal):\n",
        "        queue = deque([(start, [])])\n",
        "        visited = set()\n",
        "        while queue:\n",
        "            node, path = queue.popleft()\n",
        "            if node in visited:\n",
        "                continue\n",
        "            visited.add(node)\n",
        "            path = path + [node]\n",
        "            if node == goal:\n",
        "                return path\n",
        "            for neighbor, _ in self.graph.get(node, []):\n",
        "                if neighbor not in visited:\n",
        "                    queue.append((neighbor, path))\n",
        "        return []\n",
        "\n",
        "g = Graph()\n",
        "edges = [\n",
        "    ('A', 'B', 1),\n",
        "    ('A', 'C', 4),\n",
        "    ('B', 'C', 2),\n",
        "    ('B', 'D', 5),\n",
        "    ('C', 'D', 1),\n",
        "]\n",
        "for u, v, cost in edges:\n",
        "    g.add_edge(u, v, cost)\n",
        "start, goal = 'A', 'D'\n",
        "ucs_cost, ucs_path = g.ucs(start, goal)\n",
        "print(f\"UCS: Path: {ucs_path}, Cost: {ucs_cost}\")\n",
        "bfs_path = g.bfs(start, goal)\n",
        "print(f\"BFS: Path: {bfs_path}\")"
      ]
    }
  ],
  "metadata": {
    "colab": {
      "provenance": []
    },
    "kernelspec": {
      "display_name": "Python 3",
      "name": "python3"
    },
    "language_info": {
      "name": "python"
    }
  },
  "nbformat": 4,
  "nbformat_minor": 0
}
